{
 "cells": [
  {
   "cell_type": "code",
   "execution_count": 11,
   "metadata": {},
   "outputs": [
    {
     "name": "stdout",
     "output_type": "stream",
     "text": [
      "c:\\Users\\Jesse B\\Documents\\Projects\\OBJ2CNN\n",
      "1/1 [==============================] - 0s 129ms/step\n",
      "[[0.03915269 0.49083427 0.3507097  0.7030008 ]]\n"
     ]
    },
    {
     "data": {
      "text/plain": [
       "None"
      ]
     },
     "metadata": {},
     "output_type": "display_data"
    }
   ],
   "source": [
    "import matplotlib.pyplot as plt\n",
    "import numpy as np\n",
    "import PIL\n",
    "import tensorflow as tf\n",
    "\n",
    "from tensorflow import keras\n",
    "from keras import layers\n",
    "from keras.models import Sequential\n",
    "import sys\n",
    "import os\n",
    "#sys.path.append(os.getcwd())\n",
    "print(os.getcwd())\n",
    "from BBDrawer import drawBBox\n",
    "\n",
    "\n",
    "\n",
    "modelPath = 'C:\\\\Users\\\\Jesse B\\\\Documents\\\\Projects\\\\OBJ2CNN\\\\model.json'\n",
    "imagePath = 'C:\\\\Users\\\\Jesse B\\Desktop\\\\Corsair13\\\\pic005.png'\n",
    "\n",
    "model = tf.keras.models.load_model(filepath=modelPath)\n",
    "#imgSize = 128\n",
    "\n",
    "img = tf.keras.utils.load_img(\n",
    "   imagePath, target_size=None,color_mode='rgb'\n",
    ")\n",
    "img_array = tf.keras.utils.img_to_array(img)\n",
    "img_array = tf.expand_dims(img_array, 0) # Create a batch\n",
    "\n",
    "predictions = model.predict(img_array)\n",
    "#score = tf.nn.softmax(predictions[0])\n",
    "\n",
    "print(predictions)\n",
    "display(drawBBox(imagePath,predictions))"
   ]
  }
 ],
 "metadata": {
  "kernelspec": {
   "display_name": "Python 3.11.2 64-bit",
   "language": "python",
   "name": "python3"
  },
  "language_info": {
   "codemirror_mode": {
    "name": "ipython",
    "version": 3
   },
   "file_extension": ".py",
   "mimetype": "text/x-python",
   "name": "python",
   "nbconvert_exporter": "python",
   "pygments_lexer": "ipython3",
   "version": "3.11.2"
  },
  "orig_nbformat": 4,
  "vscode": {
   "interpreter": {
    "hash": "c261aea317cc0286b3b3261fbba9abdec21eaa57589985bb7a274bf54d6cc0a7"
   }
  }
 },
 "nbformat": 4,
 "nbformat_minor": 2
}

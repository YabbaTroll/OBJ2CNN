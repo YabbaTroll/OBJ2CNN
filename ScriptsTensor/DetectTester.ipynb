{
 "cells": [
  {
   "cell_type": "code",
   "execution_count": 3,
   "metadata": {},
   "outputs": [
    {
     "data": {
      "application/vnd.jupyter.widget-view+json": {
       "model_id": "7510aa2ec171457d8719f56faad6e840",
       "version_major": 2,
       "version_minor": 0
      },
      "text/plain": [
       "FileChooser(path='C:\\Users\\Jesse B\\Documents\\Projects\\OBJ2CNN', filename='', title='<b>Select Input Model</b>'…"
      ]
     },
     "metadata": {},
     "output_type": "display_data"
    },
    {
     "data": {
      "application/vnd.jupyter.widget-view+json": {
       "model_id": "6e905d49a41f4103bbaaa51fa1a350a2",
       "version_major": 2,
       "version_minor": 0
      },
      "text/plain": [
       "FileChooser(path='C:\\Users\\Jesse B\\Documents\\Projects\\OBJ2CNN', filename='', title='<b>Select Input Image</b>'…"
      ]
     },
     "metadata": {},
     "output_type": "display_data"
    }
   ],
   "source": [
    "from ipyfilechooser import FileChooser\n",
    "import os \n",
    "\n",
    "def print_file(chooser):\n",
    "    if not dirModel.selected == None and not dirImage.selected == None: \n",
    "        print(dirModel.selected)\n",
    "        print(dirImage.selected)\n",
    "\n",
    "#Model Directory\n",
    "dirModel = FileChooser('')\n",
    "dirModel.title = '<b>Select Input Model</b>'\n",
    "dirModel.register_callback(print_file)\n",
    "\n",
    "#Image Directory\n",
    "dirImage = FileChooser('')\n",
    "dirImage.default_path = os.getcwd()\n",
    "dirImage.title = '<b>Select Input Image</b>'\n",
    "dirImage.register_callback(print_file)\n",
    "\n",
    "display(dirModel)\n",
    "display(dirImage)\n"
   ]
  },
  {
   "cell_type": "code",
   "execution_count": 22,
   "metadata": {},
   "outputs": [
    {
     "name": "stdout",
     "output_type": "stream",
     "text": [
      "1/1 [==============================] - 0s 85ms/step\n",
      "This image most likely belongs to F-100D_Super_Sabre with a 100.00 percent confidence.\n",
      "\n",
      "A-10A_Thunderbolt_II_(Late) : -6.728912\n",
      "A-26C-45_Invader : -17.986094\n",
      "AH-1G : -13.148289\n",
      "B-29A-BN_Superfortress : 20.67578\n",
      "F-100D_Super_Sabre : 31.357422\n",
      "F-104C_Starfighter : 14.727794\n",
      "F4F-4_Wildcat : -14.803584\n",
      "F4U-4B_Corsair : -25.558834\n",
      "F6F-5_Hellcat : -13.007056\n",
      "P-47D-25_Thunderbolt : -4.0148845\n",
      "PBJ-1H : -3.401431\n",
      "UH-1B : -33.66004\n"
     ]
    }
   ],
   "source": [
    "import matplotlib.pyplot as plt\n",
    "import numpy as np\n",
    "import PIL\n",
    "import tensorflow as tf\n",
    "\n",
    "from tensorflow import keras\n",
    "from keras import layers\n",
    "from keras.models import Sequential\n",
    "\n",
    "class_names = ['A-10A_Thunderbolt_II_(Late)', 'A-26C-45_Invader', 'AH-1G', 'B-29A-BN_Superfortress', 'F-100D_Super_Sabre', 'F-104C_Starfighter', 'F4F-4_Wildcat', 'F4U-4B_Corsair', 'F6F-5_Hellcat', 'P-47D-25_Thunderbolt', 'PBJ-1H', 'UH-1B']\n",
    "\n",
    "model = tf.keras.models.load_model(filepath=dirModel.selected_path)\n",
    "imgSize = 128\n",
    "\n",
    "img = tf.keras.utils.load_img(\n",
    "   dirImage.selected, target_size=(imgSize, imgSize),color_mode='rgba'\n",
    ")\n",
    "img_array = tf.keras.utils.img_to_array(img)\n",
    "img_array = tf.expand_dims(img_array, 0) # Create a batch\n",
    "\n",
    "predictions = model.predict(img_array)\n",
    "score = tf.nn.softmax(predictions[0])\n",
    "\n",
    "print(\n",
    "    \"This image most likely belongs to {} with a {:.2f} percent confidence.\"\n",
    "    .format(class_names[np.argmax(score)], 100 * np.max(score))\n",
    ")\n",
    "print('')\n",
    "#print(predictions)\n",
    "for px, plane in enumerate(class_names) :\n",
    "   print(plane + ' : ' + str(predictions[0][px]))\n"
   ]
  },
  {
   "cell_type": "code",
   "execution_count": 5,
   "metadata": {},
   "outputs": [
    {
     "ename": "AttributeError",
     "evalue": "module 'tensorflow' has no attribute 'gfile'",
     "output_type": "error",
     "traceback": [
      "\u001b[1;31m---------------------------------------------------------------------------\u001b[0m",
      "\u001b[1;31mAttributeError\u001b[0m                            Traceback (most recent call last)",
      "Cell \u001b[1;32mIn[5], line 6\u001b[0m\n\u001b[0;32m      3\u001b[0m \u001b[39mimport\u001b[39;00m \u001b[39mcv2\u001b[39;00m \u001b[39mas\u001b[39;00m \u001b[39mcv\u001b[39;00m\n\u001b[0;32m      5\u001b[0m \u001b[39m# Read the graph.\u001b[39;00m\n\u001b[1;32m----> 6\u001b[0m \u001b[39mwith\u001b[39;00m tf\u001b[39m.\u001b[39;49mgfile\u001b[39m.\u001b[39mFastGFile(\u001b[39m'\u001b[39m\u001b[39mfrozen_inference_graph.pb\u001b[39m\u001b[39m'\u001b[39m, \u001b[39m'\u001b[39m\u001b[39mrb\u001b[39m\u001b[39m'\u001b[39m) \u001b[39mas\u001b[39;00m f:\n\u001b[0;32m      7\u001b[0m     graph_def \u001b[39m=\u001b[39m tf\u001b[39m.\u001b[39mGraphDef()\n\u001b[0;32m      8\u001b[0m     graph_def\u001b[39m.\u001b[39mParseFromString(f\u001b[39m.\u001b[39mread())\n",
      "\u001b[1;31mAttributeError\u001b[0m: module 'tensorflow' has no attribute 'gfile'"
     ]
    }
   ],
   "source": [
    "#import tensorflow_hub as hub\n",
    "import cv2\n",
    "import numpy\n",
    "import pandas as pd\n",
    "import tensorflow as tf\n",
    "import matplotlib.pyplot as plt\n",
    "\n",
    "width = 128\n",
    "height = 128\n",
    "\n",
    "#Load image by Opencv2\n",
    "img = cv2.imread(dirImage.selected)\n",
    "#Resize to respect the input_shape\n",
    "inp = cv2.resize(img, (width , height ))\n",
    "\n",
    "#Convert img to RGB\n",
    "rgb = cv2.cvtColor(inp, cv2.COLOR_BGR2RGB)\n",
    "\n",
    "# COnverting to uint8\n",
    "rgb_tensor = tf.convert_to_tensor(rgb, dtype=tf.uint8)\n",
    "\n",
    "#Add dims to rgb_tensor\n",
    "rgb_tensor = tf.expand_dims(rgb_tensor , 0)"
   ]
  },
  {
   "cell_type": "code",
   "execution_count": null,
   "metadata": {},
   "outputs": [],
   "source": [
    "#import tensorflow_hub as hub\n",
    "import pandas as pd\n",
    "\n",
    "# Loading model directly from TensorFlow Hub\n",
    "detector = hub.load(\"https://tfhub.dev/tensorflow/efficientdet/lite2/detection/1\")\n",
    "\n",
    "# Loading csv with labels of classes\n",
    "labels = pd.read_csv('labels.csv', sep=';', index_col='ID')\n",
    "labels = labels['OBJECT (2017 REL.)']"
   ]
  },
  {
   "cell_type": "code",
   "execution_count": null,
   "metadata": {},
   "outputs": [],
   "source": [
    "# Creating prediction\n",
    "boxes, scores, classes, num_detections = detector(rgb_tensor)\n",
    "\n",
    "# Processing outputs\n",
    "pred_labels = classes.numpy().astype('int')[0] \n",
    "pred_labels = [labels[i] for i in pred_labels]\n",
    "pred_boxes = boxes.numpy()[0].astype('int')\n",
    "pred_scores = scores.numpy()[0]\n",
    "\n",
    "# Putting the boxes and labels on the image\n",
    "for score, (ymin,xmin,ymax,xmax), label in zip(pred_scores, pred_boxes, pred_labels):\n",
    "    if score < 0.5:\n",
    "        continue\n",
    "\n",
    "    score_txt = f'{100 * round(score)}%'\n",
    "    img_boxes = cv2.rectangle(rgb,(xmin, ymax),(xmax, ymin),(0,255,0),2)      \n",
    "    font = cv2.FONT_HERSHEY_SIMPLEX\n",
    "    cv2.putText(img_boxes, label,(xmin, ymax-10), font, 1.5, (255,0,0), 2, cv2.LINE_AA)\n",
    "    cv2.putText(img_boxes,score_txt,(xmax, ymax-10), font, 1.5, (255,0,0), 2, cv2.LINE_AA)"
   ]
  }
 ],
 "metadata": {
  "kernelspec": {
   "display_name": "Python 3.11.2 64-bit",
   "language": "python",
   "name": "python3"
  },
  "language_info": {
   "codemirror_mode": {
    "name": "ipython",
    "version": 3
   },
   "file_extension": ".py",
   "mimetype": "text/x-python",
   "name": "python",
   "nbconvert_exporter": "python",
   "pygments_lexer": "ipython3",
   "version": "3.11.2"
  },
  "orig_nbformat": 4,
  "vscode": {
   "interpreter": {
    "hash": "c261aea317cc0286b3b3261fbba9abdec21eaa57589985bb7a274bf54d6cc0a7"
   }
  }
 },
 "nbformat": 4,
 "nbformat_minor": 2
}
